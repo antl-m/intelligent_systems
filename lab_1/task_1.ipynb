{
 "cells": [
  {
   "attachments": {},
   "cell_type": "markdown",
   "metadata": {},
   "source": [
    "# Jordan"
   ]
  },
  {
   "cell_type": "markdown",
   "metadata": {},
   "source": [
    "## Flag"
   ]
  },
  {
   "cell_type": "code",
   "execution_count": 36,
   "metadata": {
    "vscode": {
     "languageId": "html"
    }
   },
   "outputs": [
    {
     "data": {
      "text/html": [
       "<svg viewBox=\"0 0 60 30\">\n",
       "\t<rect y=\"0\"  width=\"60\" height=\"10\" fill=\"#000000\"/>\n",
       "\t<rect y=\"10\" width=\"60\" height=\"10\" fill=\"#FFFFFF\"/>\n",
       "\t<rect y=\"20\" width=\"60\" height=\"10\" fill=\"#007B3A\"/>\n",
       "\t<polygon points=\"0,0 30,15 0,30\" fill=\"#CF0921\"/>\n",
       "\t<circle cx=\"10\" cy=\"15\" r=\"2\" fill=\"#FFFFFF\"/>\n",
       "</svg>\n"
      ],
      "text/plain": [
       "<IPython.core.display.HTML object>"
      ]
     },
     "metadata": {},
     "output_type": "display_data"
    }
   ],
   "source": [
    "%%HTML\n",
    "<svg viewBox=\"0 0 60 30\">\n",
    "\t<rect y=\"0\"  width=\"60\" height=\"10\" fill=\"#000000\"/>\n",
    "\t<rect y=\"10\" width=\"60\" height=\"10\" fill=\"#FFFFFF\"/>\n",
    "\t<rect y=\"20\" width=\"60\" height=\"10\" fill=\"#007B3A\"/>\n",
    "\t<polygon points=\"0,0 30,15 0,30\" fill=\"#CF0921\"/>\n",
    "\t<circle cx=\"10\" cy=\"15\" r=\"2\" fill=\"#FFFFFF\"/>\n",
    "</svg>"
   ]
  },
  {
   "attachments": {},
   "cell_type": "markdown",
   "metadata": {},
   "source": [
    "## General information:\n",
    "\n",
    "- Total area: 89,342 km<sup>2</sup>\n",
    "- Population: 11,042,719\n",
    "- Government: Unitary parliamentary constitutional monarchy"
   ]
  },
  {
   "attachments": {},
   "cell_type": "markdown",
   "metadata": {},
   "source": [
    "## Famous personalities\n",
    "\n",
    "| Name | Photo | Description |\n",
    "| ---- | ----- | ----------- |\n",
    "| [Abdullah II of Jordan](https://en.wikipedia.org/wiki/Abdullah_II_of_Jordan) | ![Niels Henrik Abel](https://upload.wikimedia.org/wikipedia/commons/d/d9/King_Abdullah_II_%28cropped%29.jpg) | Noble person. Abdullah II ibn Al-Hussein is the reigning king of the Kingdom of Jordan. He ascended the throne on 7 February 1999 upon the death of his father King Hussein. King Abdullah, whose mother is Princess Muna al-Hussein, is a member of the Hashemite family. |\n",
    "| [Kassem Gharaibeh](https://en.wikipedia.org/wiki/Kassem_G) | ![Kassem Gharaibeh](https://upload.wikimedia.org/wikipedia/commons/thumb/d/dc/Kassem_G_Dance_Showdown.jpg/330px-Kassem_G_Dance_Showdown.jpg) | Comedian. Kassem Gharaibeh, known by his stage name KassemG, is an Arab-American comedian and actor, best known for his online content. His YouTube channel, \"KassemG\", hosts several hundred videos, most notably the California On and Going Deep webseries. As of September 2013 \"KassemG\" has more than 2.4 million subscribers, and 380 million video views, and a secondary channel, \"KassemGtwo\", maintains over a half million subscribers. |\n",
    "| [Abdul Rahman Munif](https://en.wikipedia.org/wiki/Abdul_Rahman_Munif) | ![Abdul Rahman Munif](https://arablit.files.wordpress.com/2010/09/munif.jpg) | Abdul Rahman Munif was a Jordanian-born Saudi novelist. His novels include strong political elements and parodies of the Middle Eastern elite class. |"
   ]
  },
  {
   "cell_type": "code",
   "execution_count": 37,
   "metadata": {
    "scrolled": false,
    "vscode": {
     "languageId": "html"
    }
   },
   "outputs": [
    {
     "data": {
      "text/html": [
       "<style>\n",
       "        ul {\n",
       "            padding-left: 20px;\n",
       "        }\n",
       "\n",
       "        .landmarks {\n",
       "            padding: 30px;\n",
       "            border: 2px solid rgb(251, 248, 101);\n",
       "            border-radius: 10px;\n",
       "            color: rgb(79, 163, 192);\n",
       "            min-width: 900px;\n",
       "        }\n",
       "\n",
       "        .landmark-section {\n",
       "            display: grid;\n",
       "            grid-row: 1;\n",
       "            row-gap: 20px;\n",
       "        }\n",
       "\n",
       "        .landmark {\n",
       "            padding: 20px 5px;\n",
       "            border: 1px solid #333;\n",
       "            border-radius: 15px;\n",
       "            color: rgb(238, 166, 94);\n",
       "            text-align: center;\n",
       "        }\n",
       "\n",
       "        .landmark img {\n",
       "            max-width: 1080px;\n",
       "            max-height: 720px;\n",
       "            border-radius: 10px;\n",
       "            box-shadow: 10px 10px 5px rgba(0, 0, 0, 0.196);\n",
       "        }\n",
       "</style>\n",
       "\n",
       "<h2>Famous historical landmarks</h2>\n",
       "\n",
       "<div class=\"landmarks\">\n",
       "    <ul>\n",
       "        <li>\n",
       "            <h3>Buildings</h3>\n",
       "            <ul class=\"landmark-section\">\n",
       "                <li>\n",
       "                    <div class=\"landmark\">\n",
       "                        <h3>Al-Khazneh in Petra</h3>\n",
       "                        <img src=\"https://upload.wikimedia.org/wikipedia/commons/3/39/Al_Khazneh_Petra_edit_2_%28cropped%29.jpg\"\n",
       "                            alt=\"Al-Khazneh in Petra\">\n",
       "                    </div>\n",
       "                </li>\n",
       "                <li>\n",
       "                    <div class=\"landmark\">\n",
       "                        <h3>Ajloun Castle</h3>\n",
       "                        <img src=\"https://upload.wikimedia.org/wikipedia/commons/0/02/Ajloun_Castle_1.jpg\"\n",
       "                            alt=\"Ajloun Castle\">\n",
       "                    </div>\n",
       "                </li>\n",
       "                <li>\n",
       "                    <div class=\"landmark\">\n",
       "                        <h3>Kerak Castle</h3>\n",
       "                        <img src=\"https://upload.wikimedia.org/wikipedia/commons/b/b5/Kerak_BW_1_%28cropped%29.JPG\"\n",
       "                            alt=\"Kerak Castle\">\n",
       "                    </div>\n",
       "                </li>\n",
       "            </ul>\n",
       "        </li>\n",
       "        <li>\n",
       "            <h3>Nature</h3>\n",
       "            <ul class=\"landmark-section\">\n",
       "                <li>\n",
       "                    <div class=\"landmark\">\n",
       "                        <h3>Mountain in Wadi Rum</h3>\n",
       "                        <img src=\"res/Mountain_in_Wadi_Rum_Jordan.jpg\"\n",
       "                            alt=\"Mountain in Wadi Rum\">\n",
       "                    </div>\n",
       "                </li>\n",
       "                <li>\n",
       "                    <div class=\"landmark\">\n",
       "                        <h3>Dead Sea, Jordanian Shore</h3>\n",
       "                        <img src=\"res/Dead_Sea_Jordanian_Shore.jpg\"\n",
       "                            alt=\"Dead Sea, Jordanian Shore\">\n",
       "                    </div>\n",
       "                </li>\n",
       "                <li>\n",
       "                    <div class=\"landmark\">\n",
       "                        <h3>Ajlun forrest</h3>\n",
       "                        <img src=\"res/Ajlun_Green.jpg\"\n",
       "                            alt=\"Ajlun forrest\">\n",
       "                    </div>\n",
       "                </li>\n",
       "            </ul>\n",
       "        </li>\n",
       "    </ul>\n",
       "</div>\n"
      ],
      "text/plain": [
       "<IPython.core.display.HTML object>"
      ]
     },
     "metadata": {},
     "output_type": "display_data"
    }
   ],
   "source": [
    "%%HTML\n",
    "<style>\n",
    "        ul {\n",
    "            padding-left: 20px;\n",
    "        }\n",
    "\n",
    "        .landmarks {\n",
    "            padding: 30px;\n",
    "            border: 2px solid rgb(251, 248, 101);\n",
    "            border-radius: 10px;\n",
    "            color: rgb(79, 163, 192);\n",
    "            min-width: 900px;\n",
    "        }\n",
    "\n",
    "        .landmark-section {\n",
    "            display: grid;\n",
    "            grid-row: 1;\n",
    "            row-gap: 20px;\n",
    "        }\n",
    "\n",
    "        .landmark {\n",
    "            padding: 20px 5px;\n",
    "            border: 1px solid #333;\n",
    "            border-radius: 15px;\n",
    "            color: rgb(238, 166, 94);\n",
    "            text-align: center;\n",
    "        }\n",
    "\n",
    "        .landmark img {\n",
    "            max-width: 1080px;\n",
    "            max-height: 720px;\n",
    "            border-radius: 10px;\n",
    "            box-shadow: 10px 10px 5px rgba(0, 0, 0, 0.196);\n",
    "        }\n",
    "</style>\n",
    "\n",
    "<h2>Famous historical landmarks</h2>\n",
    "\n",
    "<div class=\"landmarks\">\n",
    "    <ul>\n",
    "        <li>\n",
    "            <h3>Buildings</h3>\n",
    "            <ul class=\"landmark-section\">\n",
    "                <li>\n",
    "                    <div class=\"landmark\">\n",
    "                        <h3>Al-Khazneh in Petra</h3>\n",
    "                        <img src=\"https://upload.wikimedia.org/wikipedia/commons/3/39/Al_Khazneh_Petra_edit_2_%28cropped%29.jpg\"\n",
    "                            alt=\"Al-Khazneh in Petra\">\n",
    "                    </div>\n",
    "                </li>\n",
    "                <li>\n",
    "                    <div class=\"landmark\">\n",
    "                        <h3>Ajloun Castle</h3>\n",
    "                        <img src=\"https://upload.wikimedia.org/wikipedia/commons/0/02/Ajloun_Castle_1.jpg\"\n",
    "                            alt=\"Ajloun Castle\">\n",
    "                    </div>\n",
    "                </li>\n",
    "                <li>\n",
    "                    <div class=\"landmark\">\n",
    "                        <h3>Kerak Castle</h3>\n",
    "                        <img src=\"https://upload.wikimedia.org/wikipedia/commons/b/b5/Kerak_BW_1_%28cropped%29.JPG\"\n",
    "                            alt=\"Kerak Castle\">\n",
    "                    </div>\n",
    "                </li>\n",
    "            </ul>\n",
    "        </li>\n",
    "        <li>\n",
    "            <h3>Nature</h3>\n",
    "            <ul class=\"landmark-section\">\n",
    "                <li>\n",
    "                    <div class=\"landmark\">\n",
    "                        <h3>Mountain in Wadi Rum</h3>\n",
    "                        <img src=\"res/Mountain_in_Wadi_Rum_Jordan.jpg\"\n",
    "                            alt=\"Mountain in Wadi Rum\">\n",
    "                    </div>\n",
    "                </li>\n",
    "                <li>\n",
    "                    <div class=\"landmark\">\n",
    "                        <h3>Dead Sea, Jordanian Shore</h3>\n",
    "                        <img src=\"res/Dead_Sea_Jordanian_Shore.jpg\"\n",
    "                            alt=\"Dead Sea, Jordanian Shore\">\n",
    "                    </div>\n",
    "                </li>\n",
    "                <li>\n",
    "                    <div class=\"landmark\">\n",
    "                        <h3>Ajlun forrest</h3>\n",
    "                        <img src=\"res/Ajlun_Green.jpg\"\n",
    "                            alt=\"Ajlun forrest\">\n",
    "                    </div>\n",
    "                </li>\n",
    "            </ul>\n",
    "        </li>\n",
    "    </ul>\n",
    "</div>"
   ]
  }
 ],
 "metadata": {
  "celltoolbar": "Edit Metadata",
  "kernelspec": {
   "display_name": "Python 3",
   "language": "python",
   "name": "python3"
  },
  "language_info": {
   "codemirror_mode": {
    "name": "ipython",
    "version": 3
   },
   "file_extension": ".py",
   "mimetype": "text/x-python",
   "name": "python",
   "nbconvert_exporter": "python",
   "pygments_lexer": "ipython3",
   "version": "3.10.7"
  },
  "vscode": {
   "interpreter": {
    "hash": "2fd32d8e905b54f1a1b6ecf586d723922048d49c6dae2d40ce18169fa81fbbfd"
   }
  }
 },
 "nbformat": 4,
 "nbformat_minor": 1
}
