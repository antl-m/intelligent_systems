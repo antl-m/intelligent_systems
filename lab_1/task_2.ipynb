{
 "cells": [
  {
   "attachments": {},
   "cell_type": "markdown",
   "metadata": {
    "collapsed": false
   },
   "source": [
    "# Find all prime numbers on segment $[a, b]$."
   ]
  },
  {
   "cell_type": "code",
   "execution_count": 63,
   "metadata": {
    "collapsed": false
   },
   "outputs": [],
   "source": [
    "def find_primes_in_range(a, b):\n",
    "    is_prime = [True] * (b + 1)\n",
    "    p = 2\n",
    "    while p * p <= b:\n",
    "        if is_prime[p]:\n",
    "            for i in range(p * p, b + 1, p):\n",
    "                is_prime[i] = False\n",
    "        p += 1\n",
    "\n",
    "    primes = [p for p in range(max(a, 2), b + 1) if is_prime[p]]\n",
    "    return primes"
   ]
  },
  {
   "attachments": {},
   "cell_type": "markdown",
   "metadata": {},
   "source": [
    "## Tests"
   ]
  },
  {
   "cell_type": "code",
   "execution_count": 64,
   "metadata": {},
   "outputs": [
    {
     "name": "stdout",
     "output_type": "stream",
     "text": [
      "True\n",
      "True\n",
      "True\n",
      "True\n",
      "True\n",
      "True\n"
     ]
    }
   ],
   "source": [
    "print(find_primes_in_range(1, 5) == [2, 3, 5])\n",
    "print(find_primes_in_range(3, 5) == [3, 5])\n",
    "print(find_primes_in_range(-6, 5) == [2, 3, 5])\n",
    "print(find_primes_in_range(0, 25) == [2, 3, 5, 7, 11, 13, 17, 19, 23])\n",
    "print(find_primes_in_range(15, 25) == [17, 19, 23])\n",
    "print(find_primes_in_range(35, 25) == [])"
   ]
  },
  {
   "cell_type": "code",
   "execution_count": 65,
   "metadata": {
    "collapsed": false
   },
   "outputs": [],
   "source": [
    "def task6():\n",
    "    nums = input().split()\n",
    "\n",
    "    if len(nums) != 2:\n",
    "        return print(\"Invalid number of arguments\")\n",
    "        \n",
    "    a, b = nums\n",
    "    if a.isdecimal() and b.isdecimal():\n",
    "        a, b = int(a), int(b)\n",
    "        print(find_primes_in_range(a, b))\n",
    "    else:\n",
    "        print(\"Can't convert argument to int\")\n",
    "        "
   ]
  },
  {
   "cell_type": "code",
   "execution_count": 66,
   "metadata": {
    "collapsed": false
   },
   "outputs": [
    {
     "name": "stdout",
     "output_type": "stream",
     "text": [
      "[]\n"
     ]
    }
   ],
   "source": [
    "task6()"
   ]
  }
 ],
 "metadata": {
  "kernelspec": {
   "display_name": "Python 3",
   "language": "python",
   "name": "python3"
  },
  "language_info": {
   "codemirror_mode": {
    "name": "ipython",
    "version": 3
   },
   "file_extension": ".py",
   "mimetype": "text/x-python",
   "name": "python",
   "nbconvert_exporter": "python",
   "pygments_lexer": "ipython3",
   "version": "3.10.7"
  },
  "vscode": {
   "interpreter": {
    "hash": "2fd32d8e905b54f1a1b6ecf586d723922048d49c6dae2d40ce18169fa81fbbfd"
   }
  }
 },
 "nbformat": 4,
 "nbformat_minor": 0
}
