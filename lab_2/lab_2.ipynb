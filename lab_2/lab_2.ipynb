{
 "cells": [
  {
   "cell_type": "code",
   "execution_count": 314,
   "id": "05986662",
   "metadata": {},
   "outputs": [],
   "source": [
    "import math\n",
    "import random\n",
    "import numpy as np"
   ]
  },
  {
   "attachments": {},
   "cell_type": "markdown",
   "id": "b1cd03a9",
   "metadata": {},
   "source": [
    "# Task 1\n"
   ]
  },
  {
   "cell_type": "markdown",
   "id": "1726239e",
   "metadata": {},
   "source": [
    "## Complete tasks, using\n",
    "* NumPy functions\n",
    "* iterative constructions (cycles, lists inclusions etc.)\n",
    "\n",
    "### variant 6 tasks: 1, 3, 4, 6, 10, 12, 15, 17, 18"
   ]
  },
  {
   "attachments": {},
   "cell_type": "markdown",
   "id": "bfd710c8",
   "metadata": {},
   "source": [
    "## 1:\n"
   ]
  },
  {
   "cell_type": "markdown",
   "id": "9e521e91",
   "metadata": {},
   "source": [
    "##### Enter number n, generate n x n array of structure  \n",
    "```\n",
    "5  \n",
    "[[1 0 0 0 0]  \n",
    " [0 2 0 0 0]  \n",
    " [0 0 3 0 0]  \n",
    " [0 0 0 4 0]  \n",
    " [0 0 0 0 5]]  \n",
    "```\n",
    " with numbers from 1 to n on main diagonal."
   ]
  },
  {
   "cell_type": "code",
   "execution_count": 315,
   "id": "877205d5",
   "metadata": {},
   "outputs": [
    {
     "name": "stdout",
     "output_type": "stream",
     "text": [
      "True\n",
      "True\n",
      "6.68 µs ± 2.56 µs per loop (mean ± std. dev. of 10 runs, 100 loops each)\n",
      "328 µs ± 11.6 µs per loop (mean ± std. dev. of 10 runs, 100 loops each)\n"
     ]
    }
   ],
   "source": [
    "def task_1_numpy(n):\n",
    "    matrix = np.zeros((n, n))\n",
    "    np.fill_diagonal(matrix, np.arange(1, n+1))\n",
    "    return matrix\n",
    "\n",
    "def task_1_iterative(n):\n",
    "    return [[i if i == j else 0 for j in range(1, n+1)] for i in range(1, n+1)]\n",
    "\n",
    "print(np.array_equal(task_1_numpy(3), [[1, 0, 0],\n",
    "                                       [0, 2, 0],\n",
    "                                       [0, 0, 3]]))\n",
    "\n",
    "print(np.array_equal(task_1_numpy(10), task_1_iterative(10)))\n",
    "\n",
    "%timeit -n 100 -r 10 task_1_numpy(100)\n",
    "%timeit -n 100 -r 10 task_1_iterative(100)"
   ]
  },
  {
   "attachments": {},
   "cell_type": "markdown",
   "id": "1478a6dd",
   "metadata": {},
   "source": [
    "## 3:\n"
   ]
  },
  {
   "cell_type": "markdown",
   "id": "947065a5",
   "metadata": {},
   "source": [
    "##### 4 numbers for input: n, m, r, c. Return array with size n×m, where each row with number r and each column with number c contain 0, other elements are 1.\n",
    "```\n",
    "6 7 2 3  \n",
    "[[0 0 0 0 0 0 0]  \n",
    " [0 1 1 0 1 1 0]  \n",
    " [0 0 0 0 0 0 0]  \n",
    " [0 1 1 0 1 1 0]  \n",
    " [0 0 0 0 0 0 0]  \n",
    " [0 1 1 0 1 1 0]]  \n",
    "```"
   ]
  },
  {
   "cell_type": "code",
   "execution_count": 316,
   "id": "203306aa",
   "metadata": {},
   "outputs": [
    {
     "name": "stdout",
     "output_type": "stream",
     "text": [
      "[[0 0 0 0 0 0 0]\n",
      " [0 1 1 0 1 1 0]\n",
      " [0 0 0 0 0 0 0]\n",
      " [0 1 1 0 1 1 0]\n",
      " [0 0 0 0 0 0 0]\n",
      " [0 1 1 0 1 1 0]]\n",
      "True\n",
      "11.3 µs ± 716 ns per loop (mean ± std. dev. of 10 runs, 100 loops each)\n",
      "2.87 ms ± 111 µs per loop (mean ± std. dev. of 10 runs, 100 loops each)\n"
     ]
    }
   ],
   "source": [
    "def task_3_numpy(n, m, r, c):\n",
    "    res = np.ones((n, m), dtype=int)\n",
    "    res[::r] = 0\n",
    "    res[:, ::c] = 0 \n",
    "    return res\n",
    "\n",
    "def task_3_iterative(n, m, r, c):\n",
    "    return [[1 if i%r and j%c else 0 for j in range(0, m)] for i in range(0, n)]\n",
    "\n",
    "print(task_3_numpy(6, 7, 2, 3))\n",
    "print(np.array_equal(task_3_numpy(200, 300, 4, 5), task_3_iterative(200, 300, 4, 5)))\n",
    "\n",
    "%timeit -n 100 -r 10 task_3_numpy(200, 300, 4, 5)\n",
    "%timeit -n 100 -r 10 task_3_iterative(200, 300, 4, 5)"
   ]
  },
  {
   "attachments": {},
   "cell_type": "markdown",
   "id": "d4b1b475",
   "metadata": {},
   "source": [
    "## 4:\n"
   ]
  },
  {
   "cell_type": "markdown",
   "id": "9b1b0798",
   "metadata": {},
   "source": [
    "##### Numbers n і m on input. Return array of size n×m, where first row is array [0, .., m-1] and other elements are 0\n",
    "```\n",
    "3 4  \n",
    "[[0 1 2 3]\n",
    " [0 0 0 0]  \n",
    " [0 0 0 0]]\n",
    "```"
   ]
  },
  {
   "cell_type": "code",
   "execution_count": 317,
   "id": "6fda706a",
   "metadata": {},
   "outputs": [
    {
     "name": "stdout",
     "output_type": "stream",
     "text": [
      "[[0 1 2 3]\n",
      " [0 0 0 0]\n",
      " [0 0 0 0]]\n",
      "True\n",
      "5.09 µs ± 900 ns per loop (mean ± std. dev. of 10 runs, 100 loops each)\n",
      "8.33 µs ± 248 ns per loop (mean ± std. dev. of 10 runs, 100 loops each)\n"
     ]
    }
   ],
   "source": [
    "def task_4_numpy(n, m):\n",
    "    res = np.zeros((n, m), dtype=int)\n",
    "    res[0] = np.arange(m, dtype=int)\n",
    "    return res\n",
    "\n",
    "def task_4_iterative(n, m):\n",
    "    res = [[0] * m] * n\n",
    "    res[0] = [i for i in range(m)]\n",
    "    return res\n",
    "\n",
    "print(task_4_numpy(3, 4))\n",
    "print(np.array_equal(task_4_numpy(200, 300), task_4_iterative(200, 300)))\n",
    "\n",
    "%timeit -n 100 -r 10 task_4_numpy(200, 300)\n",
    "%timeit -n 100 -r 10 task_4_iterative(200, 300)"
   ]
  },
  {
   "attachments": {},
   "cell_type": "markdown",
   "id": "9ee8cac7",
   "metadata": {},
   "source": [
    "## 6:\n"
   ]
  },
  {
   "cell_type": "markdown",
   "id": "545ba798",
   "metadata": {},
   "source": [
    "##### Enter array, change all non-zero elements to -1  \n",
    "3 4 0 9 7 0 6 0 4 0 3  \n",
    "[-1 -1 0 -1 -1 0 -1 0 -1 0 -1]"
   ]
  },
  {
   "cell_type": "code",
   "execution_count": 318,
   "id": "4faf3877",
   "metadata": {},
   "outputs": [
    {
     "name": "stdout",
     "output_type": "stream",
     "text": [
      "True\n",
      "True\n",
      "2.15 µs ± 372 ns per loop (mean ± std. dev. of 10 runs, 100 loops each)\n",
      "26.8 µs ± 2.98 µs per loop (mean ± std. dev. of 10 runs, 100 loops each)\n"
     ]
    }
   ],
   "source": [
    "\n",
    "def task_6_numpy(array):\n",
    "    arr = np.array(array)\n",
    "    arr[arr != 0] = -1\n",
    "    return arr\n",
    "    \n",
    "def task_6_iterative(array):\n",
    "    for i in range(len(array)):\n",
    "        if array[i] != 0:\n",
    "            array[i] = -1\n",
    "    return array\n",
    "\n",
    "arr = np.arange(-100, 100)\n",
    "\n",
    "print(np.array_equal(task_6_numpy([1,0,2,0,3,0]), [-1,0,-1,0,-1,0]))\n",
    "print(np.array_equal(task_6_numpy(arr), task_6_iterative(arr)))\n",
    "\n",
    "%timeit -n 100 -r 10 task_6_numpy(arr)\n",
    "%timeit -n 100 -r 10 task_6_iterative(arr)"
   ]
  },
  {
   "attachments": {},
   "cell_type": "markdown",
   "id": "9e422240",
   "metadata": {},
   "source": [
    "## 10:\n"
   ]
  },
  {
   "cell_type": "markdown",
   "id": "9bbaf8ae",
   "metadata": {},
   "source": [
    "##### Enter numbers n and m, create array of random values n x m and calculate min, max, mean and standard deviation, round to 3 decimal digits   \n",
    "    \n",
    "4 5  \n",
    "min: 0.038  \n",
    "max: 0.946  \n",
    "mean: 0.593  \n",
    "standard deviation: 0.302"
   ]
  },
  {
   "cell_type": "code",
   "execution_count": 319,
   "id": "05584fcc",
   "metadata": {},
   "outputs": [
    {
     "name": "stdout",
     "output_type": "stream",
     "text": [
      "99.6 µs ± 13.2 µs per loop (mean ± std. dev. of 10 runs, 100 loops each)\n",
      "5.84 ms ± 186 µs per loop (mean ± std. dev. of 10 runs, 100 loops each)\n"
     ]
    }
   ],
   "source": [
    "def task_10_numpy(n, m):\n",
    "    matrix = np.random.random((n, m))\n",
    "    minimum = np.min(matrix).round(3)\n",
    "    maximum = np.max(matrix).round(3)\n",
    "    mean = np.mean(matrix).round(3)\n",
    "    std_dev = np.std(matrix).round(3)\n",
    "    return minimum, maximum, mean, std_dev\n",
    "\n",
    "\n",
    "def task_10_iterative(n, m):\n",
    "    matrix = [[random.uniform(0, 1) for j in range(m)] for i in range(n)]\n",
    "    \n",
    "    minimum, maximum, mean = 1, 0, 0\n",
    "    \n",
    "    for i in range(n):\n",
    "        for j in range(m):\n",
    "            minimum = min(matrix[i][j], minimum)\n",
    "            maximum = max(matrix[i][j], maximum)\n",
    "            mean += matrix[i][j] / (n * m)\n",
    "    \n",
    "    std_dev = 0\n",
    "    for i in range(n):\n",
    "        for j in range(m):\n",
    "            std_dev += ((matrix[i][j] - mean) ** 2) / (n * m)\n",
    "    std_dev = math.sqrt(std_dev)\n",
    "        \n",
    "    return round(minimum, 3), round(maximum, 3), round(mean, 3), round(std_dev, 3)\n",
    "\n",
    "%timeit -n 100 -r 10 task_10_numpy(100, 100)\n",
    "%timeit -n 100 -r 10 task_10_iterative(100, 100)\n"
   ]
  },
  {
   "attachments": {},
   "cell_type": "markdown",
   "id": "647cf4b3",
   "metadata": {},
   "source": [
    "## 12:\n"
   ]
  },
  {
   "cell_type": "markdown",
   "id": "39154d0a",
   "metadata": {},
   "source": [
    "##### Create n x n array of ones and fill border with zeros  \n",
    "```\n",
    "4  \n",
    "[[0 0 0 0]  \n",
    " [0 1 1 0]  \n",
    " [0 1 1 0]   \n",
    " [0 0 0 0]]\n",
    "```"
   ]
  },
  {
   "cell_type": "code",
   "execution_count": 320,
   "id": "1fb8277f",
   "metadata": {},
   "outputs": [
    {
     "name": "stdout",
     "output_type": "stream",
     "text": [
      "[[0 0 0 0]\n",
      " [0 1 1 0]\n",
      " [0 1 1 0]\n",
      " [0 0 0 0]]\n",
      "True\n",
      "8.51 µs ± 1.32 µs per loop (mean ± std. dev. of 10 runs, 100 loops each)\n",
      "751 µs ± 30.1 µs per loop (mean ± std. dev. of 10 runs, 100 loops each)\n"
     ]
    }
   ],
   "source": [
    "def task_12_numpy(n):\n",
    "    matrix = np.ones((n, n), dtype=int)\n",
    "    matrix[[0, n-1]] = matrix[1:n-1, [0, n-1]] = 0\n",
    "    return matrix\n",
    "\n",
    "def task_12_iterative(n):\n",
    "    return [[1 if i>0 and i<n-1 and j>0 and j<n-1 else 0 for i in range(n)] for j in range(n)]\n",
    "\n",
    "print(task_12_numpy(4))\n",
    "print(np.array_equal(task_12_numpy(25), task_12_iterative(25)))\n",
    "\n",
    "%timeit -n 100 -r 10 task_12_numpy(100)\n",
    "%timeit -n 100 -r 10 task_12_iterative(100)"
   ]
  },
  {
   "cell_type": "code",
   "execution_count": 321,
   "id": "43622ddd",
   "metadata": {},
   "outputs": [
    {
     "name": "stdout",
     "output_type": "stream",
     "text": [
      "211 µs ± 10.4 µs per loop (mean ± std. dev. of 10 runs, 100 loops each)\n"
     ]
    }
   ],
   "source": [
    "%%timeit -n 100 -r 10\n",
    "# Iterative\n",
    "def task_11(n):\n",
    "    matrix = [[1 for j in range(n)] for i in range(n)]\n",
    "\n",
    "    matrix.insert(0, [0 for j in range(n)])\n",
    "    matrix.append([0 for j in range(n)])\n",
    "    \n",
    "    for i in range(n + 2):\n",
    "        matrix[i].insert(0, 0)\n",
    "        matrix[i].append(0)\n",
    "        \n",
    "    return matrix\n",
    "    \n",
    "task_11(100)"
   ]
  },
  {
   "attachments": {},
   "cell_type": "markdown",
   "id": "df6245a3",
   "metadata": {},
   "source": [
    "## 15:\n"
   ]
  },
  {
   "cell_type": "markdown",
   "id": "c41e8d73",
   "metadata": {},
   "source": [
    "##### Fill even columns of n x n array with with ones and odd columns with zeros  \n",
    "```\n",
    "5  \n",
    "[[0 1 0 1 0]  \n",
    " [0 1 0 1 0]  \n",
    " [0 1 0 1 0]  \n",
    " [0 1 0 1 0]  \n",
    " [0 1 0 1 0]]\n",
    "```"
   ]
  },
  {
   "cell_type": "code",
   "execution_count": 322,
   "id": "a123f4a6",
   "metadata": {},
   "outputs": [
    {
     "name": "stdout",
     "output_type": "stream",
     "text": [
      "[[0 1 0 1 0]\n",
      " [0 1 0 1 0]\n",
      " [0 1 0 1 0]\n",
      " [0 1 0 1 0]\n",
      " [0 1 0 1 0]]\n",
      "True\n",
      "The slowest run took 4.37 times longer than the fastest. This could mean that an intermediate result is being cached.\n",
      "5.57 µs ± 3.64 µs per loop (mean ± std. dev. of 10 runs, 100 loops each)\n",
      "398 µs ± 14.3 µs per loop (mean ± std. dev. of 10 runs, 100 loops each)\n"
     ]
    }
   ],
   "source": [
    "def task_15_numpy(n):\n",
    "    matrix = np.zeros((n, n), dtype=int)\n",
    "    matrix[:, 1::2] = 1\n",
    "    return matrix\n",
    "\n",
    "def task_15_iterative(n):\n",
    "    return [[0 if j % 2 == 0 else 1 for j in range(n)] for i in range(n)]\n",
    "\n",
    "print(task_15_numpy(5))\n",
    "print(np.array_equal(task_15_numpy(10), task_15_iterative(10)))\n",
    "\n",
    "%timeit -n 100 -r 10 task_15_numpy(100)\n",
    "%timeit -n 100 -r 10 task_15_iterative(100)"
   ]
  },
  {
   "attachments": {},
   "cell_type": "markdown",
   "id": "5f4824f4",
   "metadata": {},
   "source": [
    "## 17:\n"
   ]
  },
  {
   "cell_type": "markdown",
   "id": "65913ae1",
   "metadata": {},
   "source": [
    "##### Fill array with values from 0 to n, replace all values less than n/2 and greater than 3n/4 with their opposites  \n",
    "10  \n",
    "[ 0 -1 -2 -3 -4 5 6 7 -8 -9 -10]"
   ]
  },
  {
   "cell_type": "code",
   "execution_count": 323,
   "id": "10f70fa8",
   "metadata": {},
   "outputs": [
    {
     "name": "stdout",
     "output_type": "stream",
     "text": [
      "[  0  -1  -2  -3  -4   5   6   7  -8  -9 -10]\n",
      "True\n",
      "4.55 µs ± 2.12 µs per loop (mean ± std. dev. of 10 runs, 100 loops each)\n",
      "13 µs ± 1.12 µs per loop (mean ± std. dev. of 10 runs, 100 loops each)\n"
     ]
    }
   ],
   "source": [
    "def task_17_numpy(n):\n",
    "    array = np.arange(n+1)\n",
    "    array[:math.ceil(n/2)] *= -1\n",
    "    array[math.ceil(3*n/4):] *= -1\n",
    "    return array\n",
    "\n",
    "def task_17_iterative(n):\n",
    "    return [-i if (i < n/2 or i > 3*n/4) else i for i in range(n + 1)]\n",
    "\n",
    "print(task_17_numpy(10))\n",
    "print(np.array_equal(task_17_numpy(37), task_17_iterative(37)))\n",
    "\n",
    "%timeit -n 100 -r 10 task_17_numpy(133)\n",
    "%timeit -n 100 -r 10 task_17_iterative(133)"
   ]
  },
  {
   "attachments": {},
   "cell_type": "markdown",
   "id": "b9cdbb91",
   "metadata": {},
   "source": [
    "## 18:\n"
   ]
  },
  {
   "cell_type": "markdown",
   "id": "b1a4d12a",
   "metadata": {},
   "source": [
    "##### Generate array of n random numbers in range [0, 99], calculate number of unique numbers in sequence  \n",
    "30  \n",
    "In sequence [ 5 77 15 21 8 44 58 77 6 49 35 35 25 3 51 65 73 81 67 78 85 68 40 77 58 1 10 9 59 13] - 26 unique numbers"
   ]
  },
  {
   "cell_type": "code",
   "execution_count": 324,
   "id": "bf93a4c7",
   "metadata": {},
   "outputs": [
    {
     "name": "stdout",
     "output_type": "stream",
     "text": [
      "23\n",
      "19.8 µs ± 3.56 µs per loop (mean ± std. dev. of 10 runs, 100 loops each)\n",
      "80.5 µs ± 2.64 µs per loop (mean ± std. dev. of 10 runs, 100 loops each)\n"
     ]
    }
   ],
   "source": [
    "def task_18_numpy(n):\n",
    "    return len(np.unique(np.random.randint(0, 100, n)))\n",
    "\n",
    "def task_18_iterative(n):\n",
    "    return len(set([random.randrange(0, 100) for i in range(n)]))  \n",
    "\n",
    "print(task_18_numpy(30))\n",
    "\n",
    "%timeit -n 100 -r 10 task_18_numpy(200)\n",
    "%timeit -n 100 -r 10 task_18_iterative(200)"
   ]
  },
  {
   "attachments": {},
   "cell_type": "markdown",
   "id": "529d28ae",
   "metadata": {},
   "source": [
    "# Task 2\n"
   ]
  },
  {
   "cell_type": "markdown",
   "id": "38980e3d",
   "metadata": {},
   "source": [
    "#### Solving system of linear equations with Cramer's rule\n",
    "___\n",
    "**System**:\n",
    "$$\n",
    "\\begin{cases}\n",
    " x_1 + 5x_2 + 3x_3 - 4x_4 = 20 \\\\\n",
    "3x_1 +  x_2 - 2x_3        = 9 \\\\\n",
    "5x_1 - 7x_2 +       10x_4 = -9 \\\\\n",
    "       3x_2 - 5x_3        = 1\n",
    "\\end{cases}\n",
    "$$\n",
    "\n",
    "Check afterwards, using:\n",
    "* matrix multiplication\n",
    "* inverse matrix\n",
    "* function ```numpy.linalg.solve()```"
   ]
  },
  {
   "cell_type": "code",
   "execution_count": 325,
   "id": "e0eba24d",
   "metadata": {},
   "outputs": [
    {
     "name": "stdout",
     "output_type": "stream",
     "text": [
      "Naive result: [ 3.  2.  1. -1.]\n",
      "NumPy result: [ 3.  2.  1. -1.]\n",
      "\n",
      "Check with matrix multiplication: \n",
      "Expected value [20  9 -9  1]\n",
      "Got value [20.  9. -9.  1.]\n",
      "\n",
      "Check with inverse matrix: \n",
      "Expected value [ 3.  2.  1. -1.]\n",
      "Got value [ 3.  2.  1. -1.]\n",
      "\n"
     ]
    }
   ],
   "source": [
    "matrix = np.array([[1,  5,  3, -4],\n",
    "                   [3,  1, -2,  0],\n",
    "                   [5, -7,  0, 10],\n",
    "                   [0,  3, -5,  0]])\n",
    "\n",
    "results = np.array([20, 9, -9, 1])\n",
    "\n",
    "\n",
    "def cramer(matrix, results):\n",
    "    det = np.linalg.det(matrix)\n",
    "    size = matrix.shape[0]\n",
    "    \n",
    "    if np.allclose(det, 0):\n",
    "        print(\"Determinant is zero, aborting.\")\n",
    "        return solution\n",
    "    \n",
    "    solution = np.zeros(size)\n",
    "    \n",
    "    for i in range(size):\n",
    "        temp_matrix = np.copy(matrix)\n",
    "        temp_matrix[:, i] = np.copy(results)\n",
    "        solution[i] = np.linalg.det(temp_matrix) / det   \n",
    "    \n",
    "    return solution\n",
    "  \n",
    "    \n",
    "solution_cramer = cramer(matrix, results)\n",
    "print(f\"Naive result: {solution_cramer}\") \n",
    "\n",
    "solution_numpy = np.linalg.solve(matrix, results)\n",
    "print(f\"NumPy result: {solution_numpy}\\n\")\n",
    "assert np.allclose(solution_numpy, solution_cramer)\n",
    "\n",
    "check_mult = np.dot(matrix, solution_cramer)\n",
    "print(\"Check with matrix multiplication: \")\n",
    "print(f\"Expected value {results}\")\n",
    "print(f\"Got value {check_mult}\\n\")\n",
    "assert np.allclose(results, check_mult)\n",
    "\n",
    "check_inv = np.dot(np.linalg.inv(matrix), results)\n",
    "print(\"Check with inverse matrix: \")\n",
    "print(f\"Expected value {check_inv}\")\n",
    "print(f\"Got value {solution_cramer}\\n\")\n",
    "assert np.allclose(check_inv, solution_cramer)"
   ]
  },
  {
   "attachments": {},
   "cell_type": "markdown",
   "id": "37fc44a9",
   "metadata": {},
   "source": [
    "# Task 3\n"
   ]
  },
  {
   "attachments": {},
   "cell_type": "markdown",
   "id": "28e3b94b",
   "metadata": {},
   "source": [
    "#### Evaluating matrix expression\n",
    "___\n",
    "Expression: $(A - B^2)(2A + B)$,\n",
    "\n",
    "where \n",
    "$$\n",
    "A =\n",
    "\\begin{pmatrix}\n",
    " 5 & 2 & 0 \\\\\n",
    "10 & 4 & 1 \\\\\n",
    " 7 & 3 & 2\n",
    "\\end{pmatrix},\n",
    "B = \n",
    "\\begin{pmatrix}\n",
    " 3 &  6 & -1 \\\\\n",
    "-1 & -2 &  0 \\\\\n",
    " 2 &  1 &  3\n",
    "\\end{pmatrix}\n",
    "$$\n",
    "\n",
    "Evaluate, using:\n",
    "* NumPy functions\n",
    "* iterative constructions (cycles, lists inclusions etc.)\n",
    "\n",
    "For both versions calculate time and draw conclusions."
   ]
  },
  {
   "cell_type": "code",
   "execution_count": 341,
   "id": "9be0336e",
   "metadata": {},
   "outputs": [
    {
     "name": "stdout",
     "output_type": "stream",
     "text": [
      "Profiling:\n",
      "3.43 µs ± 296 ns per loop (mean ± std. dev. of 10 runs, 100 loops each)\n",
      "15.8 µs ± 2.88 µs per loop (mean ± std. dev. of 10 runs, 100 loops each)\n",
      "NumPy:  [[  91   64   32]\n",
      " [ 257  146    1]\n",
      " [-322 -135  -51]]\n",
      "Iterative:  [[91, 64, 32], [257, 146, 1], [-322, -135, -51]]\n",
      "Equal:  True\n"
     ]
    }
   ],
   "source": [
    "A = [[ 5, 2, 0],\n",
    "     [10, 4, 1],\n",
    "     [ 7, 3, 2]]\n",
    "\n",
    "A_np = np.array(A)\n",
    "\n",
    "B = [[ 3,  6, -1],\n",
    "     [-1, -2,  0],\n",
    "     [ 2,  1,  3]]\n",
    "\n",
    "B_np = np.array(B)\n",
    "\n",
    "def mmult(A, B):\n",
    "    a_rows, a_cols = len(A), len(A[0])\n",
    "    b_rows, b_cols = len(B), len(B[0])\n",
    "    if a_cols != b_rows:\n",
    "        print(\"Wrong dimensions, multiplication is impossible.\")\n",
    "        return []\n",
    "    \n",
    "    return [[sum([x*y for (x, y) in zip(row, col)]) for col in zip(*B)] for row in A]\n",
    "    \n",
    "def madd(A, B):\n",
    "    a_rows, a_cols = len(A), len(A[0])\n",
    "    b_rows, b_cols = len(B), len(B[0])\n",
    "    if a_rows != b_rows or a_cols != b_cols:\n",
    "        print(\"Wrong dimensions, addition is impossible.\")\n",
    "        return []\n",
    "\n",
    "    return [[A[i][j] + B[i][j] for j in range(a_cols)] for i in range(a_rows)]\n",
    "\n",
    "def msub(A, B):\n",
    "    a_rows, a_cols = len(A), len(A[0])\n",
    "    b_rows, b_cols = len(B), len(B[0])\n",
    "    if a_rows != b_rows or a_cols != b_cols:\n",
    "        print(\"Wrong dimensions, addition is impossible.\")\n",
    "        return []\n",
    "\n",
    "    return [[A[i][j] - B[i][j] for j in range(a_cols)] for i in range(a_rows)]\n",
    "\n",
    "def smult(scalar, matrix):\n",
    "    rows, cols = len(matrix), len(matrix[0])\n",
    "    return [[matrix[i][j] * scalar for j in range(cols)] for i in range(rows)]\n",
    "\n",
    "def solve_numpy():\n",
    "    return (A_np - B_np @ B_np) @ (2 * A_np + B_np)\n",
    "\n",
    "def solve_iterative():\n",
    "    return mmult(msub(A, mmult(B, B)), madd(smult(2, A), B))\n",
    "\n",
    "print(\"Profiling:\")\n",
    "%timeit -n 100 -r 10 solve_numpy()\n",
    "%timeit -n 100 -r 10 solve_iterative()\n",
    "\n",
    "result_numpy = solve_numpy()\n",
    "result_iterative = solve_iterative()\n",
    "\n",
    "print(\"NumPy: \", result_numpy)\n",
    "print(\"Iterative: \", result_iterative)\n",
    "print(\"Equal: \", np.allclose(result_numpy, result_iterative))"
   ]
  }
 ],
 "metadata": {
  "kernelspec": {
   "display_name": "Python 3",
   "language": "python",
   "name": "python3"
  },
  "language_info": {
   "codemirror_mode": {
    "name": "ipython",
    "version": 3
   },
   "file_extension": ".py",
   "mimetype": "text/x-python",
   "name": "python",
   "nbconvert_exporter": "python",
   "pygments_lexer": "ipython3",
   "version": "3.10.7"
  },
  "vscode": {
   "interpreter": {
    "hash": "2fd32d8e905b54f1a1b6ecf586d723922048d49c6dae2d40ce18169fa81fbbfd"
   }
  }
 },
 "nbformat": 4,
 "nbformat_minor": 5
}
